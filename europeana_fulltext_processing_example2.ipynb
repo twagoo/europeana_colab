{
  "cells": [
    {
      "cell_type": "markdown",
      "metadata": {
        "id": "view-in-github",
        "colab_type": "text"
      },
      "source": [
        "<a href=\"https://colab.research.google.com/github/twagoo/europeana_colab/blob/remote/europeana_fulltext_processing_example2.ipynb\" target=\"_parent\"><img src=\"https://colab.research.google.com/assets/colab-badge.svg\" alt=\"Open In Colab\"/></a>"
      ]
    },
    {
      "cell_type": "markdown",
      "metadata": {
        "id": "R37WTGe-Y-fx"
      },
      "source": [
        "# Preamble: imports, logic and configuration"
      ]
    },
    {
      "cell_type": "code",
      "execution_count": 1,
      "metadata": {
        "id": "j9b2nQrDalBx",
        "outputId": "3ba20601-3af5-4634-b2bf-eb6ebf42289b",
        "colab": {
          "base_uri": "https://localhost:8080/"
        }
      },
      "outputs": [
        {
          "output_type": "stream",
          "name": "stdout",
          "text": [
            "Requirement already satisfied: lxml in /usr/local/lib/python3.7/dist-packages (4.2.6)\n"
          ]
        }
      ],
      "source": [
        "%pip install lxml"
      ]
    },
    {
      "cell_type": "code",
      "execution_count": 2,
      "metadata": {
        "id": "uEDlPNjTR1M5"
      },
      "outputs": [],
      "source": [
        "#@title Imports and utility functions\n",
        "import ipywidgets as widgets\n",
        "import json\n",
        "import logging\n",
        "import os\n",
        "import requests\n",
        "import tarfile\n",
        "import tensorflow as tf\n",
        "import requests\n",
        "import shelve\n",
        "import sqlite3\n",
        "\n",
        "from lxml import etree\n",
        "from IPython.display import display\n",
        "from pathlib import Path\n",
        "\n",
        "\n",
        "TEXT_RESOURCE_PROFILE_ID = 'clarin.eu:cr1:p_1633000337997'\n",
        "CMD_NAMESPACES = {\n",
        "    'cmd': 'http://www.clarin.eu/cmd/1',\n",
        "    'cmdp': 'http://www.clarin.eu/cmd/1/profiles/clarin.eu:cr1:p_1633000337997'\n",
        "}\n",
        "FULLTEXT_RESOURCES_BASE_URL='https://www.europeana.eu/api/fulltext'\n",
        "\n",
        "logger = logging.getLogger(__name__)\n",
        "logging.basicConfig()\n",
        "logger.setLevel(logging.INFO)\n",
        "\n",
        "script_path = os.getcwd()\n",
        "\n",
        "def flatten_list(t):\n",
        "  return [item for sublist in t for item in sublist]\n",
        "\n",
        "\n",
        "def retrieve_cmdis_archive(url, filename='cmdis.tgz'):\n",
        "  cmdis_zip = requests.get(url, allow_redirects=True)\n",
        "  with open(filename, 'wb') as tarball:\n",
        "    tarball.write(cmdis_zip.content)\n",
        "  return filename\n",
        "\n",
        "\n",
        "def unpack_collection(tarball_filename, target_dir, collection):\n",
        "  try:\n",
        "    with tarfile.open(tarball_filename, 'r:gz') as tarball:\n",
        "      if collection in tarball.getnames():\n",
        "        members = [tar_info for tar_info in tarball.getmembers()\n",
        "                  if tar_info.name.startswith(f'{collection}/')]\n",
        "        if len(members) > 0:\n",
        "          logger.info(f'Extracting {collection} from {tarball_filename} to {target_dir}/')\n",
        "          tarball.extractall(members=members, path=target_dir)\n",
        "          return True\n",
        "      else:\n",
        "        logger.warning(f'{collection} not found in tarball')\n",
        "  except Exception as ex:\n",
        "    logger.error(f'Something went wrong while trying to extract CMDIs from tarball: {ex}')\n",
        "  return False\n",
        "\n",
        "\n",
        "def index_filenames(index_def, cmdi_files_dir):\n",
        "  index = {}\n",
        "  for filename in os.listdir(cmdi_files_dir):\n",
        "    if not (filename.endswith(\".xml\") or filename.endswith(\".cmdi\")):\n",
        "      logger.info(f\"Skipping file {filename} (not an XML file)\")\n",
        "    else:\n",
        "      file_path = f'{cmdi_files_dir}/{filename}'\n",
        "      logger.debug(f'Processing file {file_path}')\n",
        "      # parse file\n",
        "      xmldoc = etree.parse(file_path)\n",
        "      # check if it's a text resource record\n",
        "      md_profile_values = xmldoc.xpath('/cmd:CMD/cmd:Header/cmd:MdProfile/text()', namespaces=CMD_NAMESPACES)\n",
        "      if not (TEXT_RESOURCE_PROFILE_ID in md_profile_values):\n",
        "        logger.debug(f'Skipping file {filename} (not a text resource record)')\n",
        "      else:\n",
        "        # get resource refs\n",
        "        resource_refs = [ref for ref\n",
        "                        in xmldoc.xpath('/cmd:CMD/cmd:Resources/cmd:ResourceProxyList/cmd:ResourceProxy/cmd:ResourceRef/text()', namespaces=CMD_NAMESPACES)\n",
        "                        if ref.startswith(FULLTEXT_RESOURCES_BASE_URL)]\n",
        "        \n",
        "        # put in index according to definition\n",
        "        for index_key in index_def:\n",
        "          values = xmldoc.xpath(index_def[index_key], namespaces=CMD_NAMESPACES)\n",
        "          \n",
        "          if values and len(values) > 0:\n",
        "            # create and/or get index for current key\n",
        "            if not index.get(index_key, None):\n",
        "              # key has not been indexed\n",
        "              index[index_key] = {}\n",
        "            key_index = index[index_key]\n",
        "\n",
        "            # add refs to key/value index\n",
        "            for value in values:\n",
        "              if not key_index.get(value, None):\n",
        "                key_index[value] = []\n",
        "              key_index[value] += resource_refs\n",
        "  return index\n",
        "\n",
        "def get_json_from_http(url, session=None):\n",
        "    logger.debug(f\"Making request: {url}\")\n",
        "    if session is None:\n",
        "        response = requests.get(url).text\n",
        "    else:\n",
        "        response = session.get(url).text\n",
        "    logger.debug(f\"API response: {url}\")\n",
        "    try:\n",
        "        return json.loads(response)\n",
        "    except json.JSONDecodeError:\n",
        "        logger.error(f\"Error decoding response from {url}\")\n",
        "        return None\n",
        "\n",
        "def get_from_db(cur, url):\n",
        "  #cur = db_conn.cursor()\n",
        "  cur.execute(\"SELECT ft FROM fulltext WHERE url=?\", (url,))\n",
        "  rows = cur.fetchall()\n",
        "  if len(rows) > 0:\n",
        "    return rows[0][0]\n",
        "\n",
        "def save_to_db(cur, url, text):\n",
        "  #cur = db_conn.cursor()\n",
        "  cur.execute(\"INSERT INTO fulltext(url, ft) VALUES(?,?)\", (url, text))\n",
        "  db_conn.commit()\n",
        "\n",
        "def get_fulltext(urls_set, db_conn, progress_cb=None):\n",
        "  text = []\n",
        "  downloaded = 0\n",
        "  cur = db_conn.cursor()\n",
        "  for url in urls_set:\n",
        "    from_cache = get_from_db(cur, url)\n",
        "    if from_cache:\n",
        "      # use from cache\n",
        "      text_value = from_cache\n",
        "    else:\n",
        "      # retrieve\n",
        "      logger.debug(f'Retrieving text from {url}')\n",
        "      json_response = get_json_from_http(url)\n",
        "      if json_response:\n",
        "        text_value = json_response.get('value', None)\n",
        "        if text_value:\n",
        "          save_to_db(cur, url, text_value)\n",
        "          downloaded += 1\n",
        "          if downloaded % 100 == 0:\n",
        "            cur.close()\n",
        "            db_conn.commit()\n",
        "            cur = db_conn.cursor()\n",
        "\n",
        "    if text_value:\n",
        "      text += [text_value]\n",
        "      if progress_cb:\n",
        "        progress_cb(1)\n",
        "    else:\n",
        "      logger.warning(f'No response and/or text value at {url}')\n",
        "  cur.close()\n",
        "  return text"
      ]
    },
    {
      "cell_type": "code",
      "execution_count": 3,
      "metadata": {
        "id": "aAJBsxBFQq3y"
      },
      "outputs": [],
      "source": [
        "#@title Constants and settings\n",
        "COLLECTIONS = {'Finland': '9200301', 'Latvia': '9200303', 'Luxembourg': '9200396'}\n",
        "COLLECTION_NAME = \"Finland\" #@param [\"Finland\", \"Latvia\", \"Luxembourg\"]\n",
        "COLLECTION = COLLECTIONS[COLLECTION_NAME]\n",
        "\n",
        "INDEX_DEF = {\n",
        "    'language': '/cmd:CMD/cmd:Components/cmdp:TextResource/cmdp:Language/cmdp:code/text()',\n",
        "    'years': '/cmd:CMD/cmd:Components/cmdp:TextResource/cmdp:TemporalCoverage/cmdp:Start/cmdp:year/text()'\n",
        "}\n",
        "\n",
        "CMDI_TARBALL_URL = 'https://alpha-vlo.clarin.eu/data/test/europeana-aggregations.tar.gz'\n",
        "\n",
        "CMDIS_DIR = 'cmdis'\n",
        "OUTPUT_DIR = 'output'\n",
        "\n",
        "OUTPUT_ON_GOOGLE_DRIVE = False\n",
        "GOOGLE_DRIVE_BASE_DIR = '/gdrive/My Drive/colab/europeana_fulltext'\n",
        "\n",
        "CACHE_ON_GOOGLE_DRIVE = False\n",
        "DRIVE_CACHE_DIR = GOOGLE_DRIVE_BASE_DIR"
      ]
    },
    {
      "cell_type": "markdown",
      "metadata": {
        "id": "nD6JXHZBY0BA"
      },
      "source": [
        "# Retrieval and indexing of the CMDI metadata for the newspaper collections"
      ]
    },
    {
      "cell_type": "markdown",
      "metadata": {
        "id": "s6uSm-GTZi7G"
      },
      "source": [
        "First we need to download an archive (`.tar.gz` file) from the CLARIN server"
      ]
    },
    {
      "cell_type": "code",
      "execution_count": 4,
      "metadata": {
        "colab": {
          "base_uri": "https://localhost:8080/"
        },
        "id": "_Wcdg2mTnnIL",
        "outputId": "d3ac9318-22d5-41c3-ae20-c44539197381"
      },
      "outputs": [
        {
          "output_type": "stream",
          "name": "stderr",
          "text": [
            "INFO:__main__:Retrieving CMDIs\n"
          ]
        }
      ],
      "source": [
        "logger.info('Retrieving CMDIs')\n",
        "tarball_filename = retrieve_cmdis_archive(CMDI_TARBALL_URL)"
      ]
    },
    {
      "cell_type": "markdown",
      "metadata": {
        "id": "xRMOY0SQZZsv"
      },
      "source": [
        "Next we unpack the collection that we are interested in from the downloaded archive, so that we can access the individual metadata records"
      ]
    },
    {
      "cell_type": "code",
      "execution_count": 5,
      "metadata": {
        "colab": {
          "base_uri": "https://localhost:8080/"
        },
        "id": "4rTuvO3kIYg9",
        "outputId": "faf8f2d6-97d5-40c5-8bec-8b6d82cc4670"
      },
      "outputs": [
        {
          "output_type": "stream",
          "name": "stderr",
          "text": [
            "INFO:__main__:Reading tarball contents (looking for 9200301)\n",
            "INFO:__main__:Extracting 9200301 from cmdis.tgz to cmdis/\n",
            "INFO:__main__:CMDI files available in cmdis/9200301/\n"
          ]
        }
      ],
      "source": [
        "logger.info(f'Reading tarball contents (looking for {COLLECTION})')\n",
        "\n",
        "if not unpack_collection(tarball_filename, CMDIS_DIR, COLLECTION):\n",
        "  raise RuntimeError(f'Failed to extract member {COLLECTION} from tarball!')\n",
        "\n",
        "COLLECTION_FILES_DIR=f'{CMDIS_DIR}/{COLLECTION}'\n",
        "logger.info(f'CMDI files available in {COLLECTION_FILES_DIR}/')"
      ]
    },
    {
      "cell_type": "markdown",
      "metadata": {
        "id": "GMxzoPcPZMzo"
      },
      "source": [
        "The metadata records are now available to be processed.\n",
        "\n",
        "In the next cell, the links to the full text resources are **indexed** based on the index definition in the configuration section."
      ]
    },
    {
      "cell_type": "code",
      "execution_count": 6,
      "metadata": {
        "colab": {
          "base_uri": "https://localhost:8080/"
        },
        "id": "4I3BiqAgXBha",
        "outputId": "b9cbb647-32ec-470c-c46a-11be416d0b25"
      },
      "outputs": [
        {
          "output_type": "stream",
          "name": "stderr",
          "text": [
            "INFO:__main__:Indexing resource links from records\n",
            "INFO:__main__:Skipping file index.json (not an XML file)\n"
          ]
        }
      ],
      "source": [
        "logger.info('Indexing resource links from records')\n",
        "index = index_filenames(INDEX_DEF, COLLECTION_FILES_DIR)"
      ]
    },
    {
      "cell_type": "code",
      "execution_count": 7,
      "metadata": {
        "colab": {
          "base_uri": "https://localhost:8080/"
        },
        "id": "lKzeYkq3ODlH",
        "outputId": "878a4979-757b-4cda-a144-6f64edbbcb9f"
      },
      "outputs": [
        {
          "output_type": "stream",
          "name": "stderr",
          "text": [
            "INFO:__main__:Index summary:\n",
            "INFO:__main__:language: ['fin', 'swe']\n",
            "INFO:__main__:years: ['1900', '1901', '1902', '1903', '1904', '1905', '1906', '1907', '1908', '1909', '1910']\n"
          ]
        }
      ],
      "source": [
        "logger.info('Index summary:')\n",
        "for index_key in index:\n",
        "  key_index = index[index_key]\n",
        "  logger.info(f'{index_key}: {sorted(list(key_index))}')"
      ]
    },
    {
      "cell_type": "markdown",
      "metadata": {
        "id": "ZO2tmTSCZ63l"
      },
      "source": [
        "# Prepare for processing"
      ]
    },
    {
      "cell_type": "code",
      "execution_count": 8,
      "metadata": {
        "colab": {
          "base_uri": "https://localhost:8080/"
        },
        "id": "v7cUTztePEcg",
        "outputId": "4e7bb8ae-54c2-4968-dce2-cb8cfd1e8f4e"
      },
      "outputs": [
        {
          "output_type": "stream",
          "name": "stderr",
          "text": [
            "INFO:__main__:Connect: <sqlite3.Connection object at 0x7f5a09080810>\n",
            "INFO:__main__:Database file: /content/fulltext_cache/fulltext.db\n"
          ]
        },
        {
          "output_type": "stream",
          "name": "stdout",
          "text": [
            "/content/fulltext_cache\n"
          ]
        }
      ],
      "source": [
        "db_name = 'fulltext.db'\n",
        "\n",
        "def create_db(db_dir, db_name):\n",
        "  %cd \"$db_dir\"\n",
        "  with sqlite3.connect(db_name) as db_conn:\n",
        "    logger.info(f'Connect: {db_conn}')\n",
        "    db_conn.execute(\"CREATE TABLE IF NOT EXISTS fulltext(url text, ft text)\")\n",
        "    db_conn.execute(\"CREATE UNIQUE INDEX IF NOT EXISTS index_fulltext_url ON fulltext(url)\")\n",
        "\n",
        "# prepare persistent cache on drive\n",
        "if CACHE_ON_GOOGLE_DRIVE:\n",
        "  from google.colab import drive\n",
        "  drive.mount('/gdrive')\n",
        "  os.makedirs(DRIVE_CACHE_DIR, exist_ok=True)\n",
        "  db_dir=DRIVE_CACHE_DIR\n",
        "else:\n",
        "  db_dir=f'{script_path}/fulltext_cache'\n",
        "  os.makedirs(db_dir, exist_ok=True)\n",
        "\n",
        "create_db(db_dir, db_name)\n",
        "db_path=f'{db_dir}/{db_name}'\n",
        "\n",
        "logger.info(f'Database file: {db_path}')"
      ]
    },
    {
      "cell_type": "markdown",
      "metadata": {
        "id": "DilOg5ezZ-Vt"
      },
      "source": [
        "First, we segment the data based on properties from the metadata. In this case, we use language and year of publication."
      ]
    },
    {
      "cell_type": "code",
      "execution_count": 12,
      "metadata": {
        "id": "I770cIOfJlOQ"
      },
      "outputs": [],
      "source": [
        "# Create segments, then retrieve text\n",
        "\n",
        "urls_fin = set(index['language']['fin'])\n",
        "urls_swe = set(index['language']['swe'])\n",
        "urls_1905 = set(flatten_list([ index['years'][year] for year in list(index['years']) if year == '1905' ]))\n",
        "\n",
        "# make intersections\n",
        "segments_urls = {\n",
        "  'swe_1905': urls_swe.intersection(urls_1905),\n",
        "  'fin_1905': urls_fin.intersection(urls_1905),\n",
        "}"
      ]
    },
    {
      "cell_type": "markdown",
      "metadata": {
        "id": "PfzouzPCaJ61"
      },
      "source": [
        "So far, we only have resource URLs. In the next cell, the actual full text content is downloaded (and/or retrieved from cache) for the URLs in the segments that we have defined. \n",
        "\n",
        "Note that this can take a while!"
      ]
    },
    {
      "cell_type": "code",
      "execution_count": 13,
      "metadata": {
        "id": "qPINNtpStDKu"
      },
      "outputs": [],
      "source": [
        "# define widgets to visualize download progress\n",
        "download_total = sum([len(segments_urls[seg_name]) for seg_name in segments_urls])\n",
        "progress_bar = widgets.IntProgress(\n",
        "  min = 0, max = download_total,\n",
        "  description = 'Retrieving:', bar_style = 'info',\n",
        ")\n",
        "progress_label = widgets.Label(value='0.0%')\n",
        "\n",
        "download_count = 0\n",
        "def progress_cb(increment):\n",
        "  global download_count\n",
        "  download_count += increment\n",
        "  progress_bar.value = download_count\n",
        "  progress_label.value = f'{download_count}/{download_total} ({download_count/download_total:2.1%})'"
      ]
    },
    {
      "cell_type": "code",
      "execution_count": 14,
      "metadata": {
        "colab": {
          "base_uri": "https://localhost:8080/",
          "height": 104,
          "referenced_widgets": [
            "49c196b38ddb400a9ec2e0fcb3b1a2f0",
            "afa7420acdc24c36a4247b15e12c1bb9",
            "98bd6828a0284e609869831df5f181c2",
            "a27c294fbfbb490cbdfd62a866a5953f",
            "0ab1fd9cecd84ccea1a2c898bf796a05",
            "1e74afd277ba486fa9938460e9a3413b",
            "17ca8355659e42fc97d40fa6fdaf3f39",
            "5e717584bdb141c3bc6cf82e519976e9"
          ]
        },
        "id": "Ik5Lp8qws1_-",
        "outputId": "d6af19b0-0b9e-4bec-91c1-4c53fa793505"
      },
      "outputs": [
        {
          "data": {
            "application/vnd.jupyter.widget-view+json": {
              "model_id": "49c196b38ddb400a9ec2e0fcb3b1a2f0",
              "version_major": 2,
              "version_minor": 0
            },
            "text/plain": [
              "HBox(children=(IntProgress(value=0, bar_style='info', description='Retrieving:', max=12059), Label(value='0.0%…"
            ]
          },
          "metadata": {},
          "output_type": "display_data"
        },
        {
          "metadata": {
            "tags": null
          },
          "name": "stderr",
          "output_type": "stream",
          "text": [
            "INFO:__main__:Retrieving text content for segment 'swe_1905' (4216 urls)\n"
          ]
        },
        {
          "metadata": {
            "tags": null
          },
          "name": "stdout",
          "output_type": "stream",
          "text": [
            "/content/fulltext_cache\n"
          ]
        },
        {
          "metadata": {
            "tags": null
          },
          "name": "stderr",
          "output_type": "stream",
          "text": [
            "INFO:__main__:Retrieving text content for segment 'fin_1905' (7843 urls)\n"
          ]
        }
      ],
      "source": [
        "display(widgets.HBox([progress_bar, progress_label]))\n",
        "\n",
        "# retrieve text for segments\n",
        "segments_text = {}\n",
        "download_count = 0\n",
        "\n",
        "%cd \"$db_dir\"\n",
        "with sqlite3.connect(db_path) as db_conn:\n",
        "  for seg_name in segments_urls:\n",
        "    urls = segments_urls[seg_name]\n",
        "    logger.info(f\"Retrieving text content for segment '{seg_name}' ({len(urls)} urls)\")\n",
        "    segments_text[seg_name] = get_fulltext(urls, db_conn, progress_cb)\n",
        "    db_conn.commit()\n",
        "\n",
        "progress_bar.bar_style = 'success'"
      ]
    },
    {
      "cell_type": "markdown",
      "metadata": {
        "id": "c9Grsf6Saaa0"
      },
      "source": [
        "We now save the retrieved text content to disk for later use"
      ]
    },
    {
      "cell_type": "code",
      "execution_count": 15,
      "metadata": {
        "id": "rlOP7V3Oe6om",
        "colab": {
          "base_uri": "https://localhost:8080/"
        },
        "outputId": "f70b9570-beda-440c-8416-d29aee1a10d3"
      },
      "outputs": [
        {
          "output_type": "stream",
          "name": "stderr",
          "text": [
            "INFO:__main__:Writing all text for segment 'swe_1905' to '/content/output/swe_1905.txt'\n",
            "INFO:__main__:111616866 characters written\n",
            "INFO:__main__:Writing all text for segment 'fin_1905' to '/content/output/fin_1905.txt'\n",
            "INFO:__main__:162409326 characters written\n"
          ]
        }
      ],
      "source": [
        "# save retrieved text to file\n",
        "if OUTPUT_ON_GOOGLE_DRIVE:\n",
        "  output_dir = f'{GOOGLE_DRIVE_BASE_DIR}/{OUTPUT_DIR}'\n",
        "else:\n",
        "  output_dir = f'{script_path}/{OUTPUT_DIR}'\n",
        "\n",
        "os.makedirs(output_dir, exist_ok=True)\n",
        "for seg_name in segments_text:\n",
        "  filename=f'{output_dir}/{seg_name}.txt'\n",
        "  with open(filename, 'w') as out_file:\n",
        "    logger.info(f\"Writing all text for segment '{seg_name}' to '{filename}'\")\n",
        "    written = sum([out_file.write(text) for text in segments_text[seg_name]])\n",
        "    logger.info(f'{written} characters written')"
      ]
    },
    {
      "cell_type": "markdown",
      "metadata": {
        "id": "2BhysRFdaiVG"
      },
      "source": [
        "# Processing"
      ]
    },
    {
      "cell_type": "markdown",
      "metadata": {
        "id": "1Qw8b771akgL"
      },
      "source": [
        "We run the [Tensorflow tokenizer](https://www.tensorflow.org/api_docs/python/tf/keras/preprocessing/text/Tokenizer) on each of the data segments"
      ]
    },
    {
      "cell_type": "code",
      "execution_count": 16,
      "metadata": {
        "id": "Y4-IbXyKhSse",
        "colab": {
          "base_uri": "https://localhost:8080/"
        },
        "outputId": "a89a87ed-6786-4ead-f708-8a4b94fd1924"
      },
      "outputs": [
        {
          "output_type": "stream",
          "name": "stderr",
          "text": [
            "INFO:__main__:Running tokenizer on text for 'swe_1905'\n",
            "INFO:__main__:Running tokenizer on text for 'fin_1905'\n"
          ]
        }
      ],
      "source": [
        "# Run tokenizer\n",
        "from tensorflow.keras.preprocessing.text import Tokenizer\n",
        "\n",
        "segments_tokenized = {}\n",
        "for seg_name in segments_text:\n",
        "  logger.info(f\"Running tokenizer on text for '{seg_name}'\")\n",
        "  tokenizer = Tokenizer(num_words = 1000)\n",
        "  tokenizer.fit_on_texts(segments_text[seg_name])\n",
        "  segments_tokenized[seg_name] = tokenizer.word_index\n"
      ]
    },
    {
      "cell_type": "markdown",
      "metadata": {
        "id": "fxF7uYE1aooT"
      },
      "source": [
        "Saving the token collections to disk for later use"
      ]
    },
    {
      "cell_type": "code",
      "execution_count": 19,
      "metadata": {
        "id": "-tVlL99UmEuq",
        "colab": {
          "base_uri": "https://localhost:8080/"
        },
        "outputId": "a5834a1d-63f6-40a8-c89b-e47c0864248f"
      },
      "outputs": [
        {
          "output_type": "stream",
          "name": "stderr",
          "text": [
            "INFO:__main__:Writing all text for segment 'swe_1905' to '/content/output/swe_1905_tokenized.json'\n",
            "INFO:__main__:Preview: ['i', 'och', 'af', 'att', 'till', 'den', 'en', 'för', 'med', 'som']...\n",
            "INFO:__main__:Writing all text for segment 'fin_1905' to '/content/output/fin_1905_tokenized.json'\n",
            "INFO:__main__:Preview: ['ja', 'on', 'p', 'i', 'että', '—', 'a', 'm', '1', 'k']...\n"
          ]
        }
      ],
      "source": [
        "# save tokenizer output to file\n",
        "if OUTPUT_ON_GOOGLE_DRIVE:\n",
        "  output_dir = f'{GOOGLE_DRIVE_BASE_DIR}/{OUTPUT_DIR}'\n",
        "else:\n",
        "  output_dir = f'{script_path}/{OUTPUT_DIR}'\n",
        "\n",
        "os.makedirs(output_dir, exist_ok=True)\n",
        "for seg_name in segments_tokenized:\n",
        "  filename=f'{output_dir}/{seg_name}_tokenized.json'\n",
        "  with open(filename, 'w') as out_file:\n",
        "    logger.info(f\"Writing all text for segment '{seg_name}' to '{filename}'\")\n",
        "    logger.info(f\"Preview: {list(segments_tokenized[seg_name])[:10]}...\")\n",
        "    json.dump(segments_tokenized[seg_name], out_file)"
      ]
    }
  ],
  "metadata": {
    "colab": {
      "collapsed_sections": [],
      "name": "europeana-fulltext-processing-example2",
      "provenance": [],
      "include_colab_link": true
    },
    "kernelspec": {
      "display_name": "Python 3 (ipykernel)",
      "language": "python",
      "name": "python3"
    },
    "language_info": {
      "codemirror_mode": {
        "name": "ipython",
        "version": 3
      },
      "file_extension": ".py",
      "mimetype": "text/x-python",
      "name": "python",
      "nbconvert_exporter": "python",
      "pygments_lexer": "ipython3",
      "version": "3.9.7"
    },
    "widgets": {
      "application/vnd.jupyter.widget-state+json": {
        "49c196b38ddb400a9ec2e0fcb3b1a2f0": {
          "model_module": "@jupyter-widgets/controls",
          "model_name": "HBoxModel",
          "model_module_version": "1.5.0",
          "state": {
            "_view_name": "HBoxView",
            "_dom_classes": [],
            "_model_name": "HBoxModel",
            "_view_module": "@jupyter-widgets/controls",
            "_model_module_version": "1.5.0",
            "_view_count": null,
            "_view_module_version": "1.5.0",
            "box_style": "",
            "layout": "IPY_MODEL_afa7420acdc24c36a4247b15e12c1bb9",
            "_model_module": "@jupyter-widgets/controls",
            "children": [
              "IPY_MODEL_98bd6828a0284e609869831df5f181c2",
              "IPY_MODEL_a27c294fbfbb490cbdfd62a866a5953f"
            ]
          }
        },
        "afa7420acdc24c36a4247b15e12c1bb9": {
          "model_module": "@jupyter-widgets/base",
          "model_name": "LayoutModel",
          "model_module_version": "1.2.0",
          "state": {
            "_view_name": "LayoutView",
            "grid_template_rows": null,
            "right": null,
            "justify_content": null,
            "_view_module": "@jupyter-widgets/base",
            "overflow": null,
            "_model_module_version": "1.2.0",
            "_view_count": null,
            "flex_flow": null,
            "width": null,
            "min_width": null,
            "border": null,
            "align_items": null,
            "bottom": null,
            "_model_module": "@jupyter-widgets/base",
            "top": null,
            "grid_column": null,
            "overflow_y": null,
            "overflow_x": null,
            "grid_auto_flow": null,
            "grid_area": null,
            "grid_template_columns": null,
            "flex": null,
            "_model_name": "LayoutModel",
            "justify_items": null,
            "grid_row": null,
            "max_height": null,
            "align_content": null,
            "visibility": null,
            "align_self": null,
            "height": null,
            "min_height": null,
            "padding": null,
            "grid_auto_rows": null,
            "grid_gap": null,
            "max_width": null,
            "order": null,
            "_view_module_version": "1.2.0",
            "grid_template_areas": null,
            "object_position": null,
            "object_fit": null,
            "grid_auto_columns": null,
            "margin": null,
            "display": null,
            "left": null
          }
        },
        "98bd6828a0284e609869831df5f181c2": {
          "model_module": "@jupyter-widgets/controls",
          "model_name": "IntProgressModel",
          "model_module_version": "1.5.0",
          "state": {
            "_view_name": "ProgressView",
            "style": "IPY_MODEL_0ab1fd9cecd84ccea1a2c898bf796a05",
            "_dom_classes": [],
            "description": "Retrieving:",
            "_model_name": "IntProgressModel",
            "bar_style": "success",
            "max": 12059,
            "_view_module": "@jupyter-widgets/controls",
            "_model_module_version": "1.5.0",
            "value": 12059,
            "_view_count": null,
            "_view_module_version": "1.5.0",
            "orientation": "horizontal",
            "min": 0,
            "description_tooltip": null,
            "_model_module": "@jupyter-widgets/controls",
            "layout": "IPY_MODEL_1e74afd277ba486fa9938460e9a3413b"
          }
        },
        "a27c294fbfbb490cbdfd62a866a5953f": {
          "model_module": "@jupyter-widgets/controls",
          "model_name": "LabelModel",
          "model_module_version": "1.5.0",
          "state": {
            "_view_name": "LabelView",
            "style": "IPY_MODEL_17ca8355659e42fc97d40fa6fdaf3f39",
            "_dom_classes": [],
            "description": "",
            "_model_name": "LabelModel",
            "placeholder": "​",
            "_view_module": "@jupyter-widgets/controls",
            "_model_module_version": "1.5.0",
            "value": "12059/12059 (100.0%)",
            "_view_count": null,
            "_view_module_version": "1.5.0",
            "description_tooltip": null,
            "_model_module": "@jupyter-widgets/controls",
            "layout": "IPY_MODEL_5e717584bdb141c3bc6cf82e519976e9"
          }
        },
        "0ab1fd9cecd84ccea1a2c898bf796a05": {
          "model_module": "@jupyter-widgets/controls",
          "model_name": "ProgressStyleModel",
          "model_module_version": "1.5.0",
          "state": {
            "_view_name": "StyleView",
            "_model_name": "ProgressStyleModel",
            "description_width": "",
            "_view_module": "@jupyter-widgets/base",
            "_model_module_version": "1.5.0",
            "_view_count": null,
            "_view_module_version": "1.2.0",
            "bar_color": null,
            "_model_module": "@jupyter-widgets/controls"
          }
        },
        "1e74afd277ba486fa9938460e9a3413b": {
          "model_module": "@jupyter-widgets/base",
          "model_name": "LayoutModel",
          "model_module_version": "1.2.0",
          "state": {
            "_view_name": "LayoutView",
            "grid_template_rows": null,
            "right": null,
            "justify_content": null,
            "_view_module": "@jupyter-widgets/base",
            "overflow": null,
            "_model_module_version": "1.2.0",
            "_view_count": null,
            "flex_flow": null,
            "width": null,
            "min_width": null,
            "border": null,
            "align_items": null,
            "bottom": null,
            "_model_module": "@jupyter-widgets/base",
            "top": null,
            "grid_column": null,
            "overflow_y": null,
            "overflow_x": null,
            "grid_auto_flow": null,
            "grid_area": null,
            "grid_template_columns": null,
            "flex": null,
            "_model_name": "LayoutModel",
            "justify_items": null,
            "grid_row": null,
            "max_height": null,
            "align_content": null,
            "visibility": null,
            "align_self": null,
            "height": null,
            "min_height": null,
            "padding": null,
            "grid_auto_rows": null,
            "grid_gap": null,
            "max_width": null,
            "order": null,
            "_view_module_version": "1.2.0",
            "grid_template_areas": null,
            "object_position": null,
            "object_fit": null,
            "grid_auto_columns": null,
            "margin": null,
            "display": null,
            "left": null
          }
        },
        "17ca8355659e42fc97d40fa6fdaf3f39": {
          "model_module": "@jupyter-widgets/controls",
          "model_name": "DescriptionStyleModel",
          "model_module_version": "1.5.0",
          "state": {
            "_view_name": "StyleView",
            "_model_name": "DescriptionStyleModel",
            "description_width": "",
            "_view_module": "@jupyter-widgets/base",
            "_model_module_version": "1.5.0",
            "_view_count": null,
            "_view_module_version": "1.2.0",
            "_model_module": "@jupyter-widgets/controls"
          }
        },
        "5e717584bdb141c3bc6cf82e519976e9": {
          "model_module": "@jupyter-widgets/base",
          "model_name": "LayoutModel",
          "model_module_version": "1.2.0",
          "state": {
            "_view_name": "LayoutView",
            "grid_template_rows": null,
            "right": null,
            "justify_content": null,
            "_view_module": "@jupyter-widgets/base",
            "overflow": null,
            "_model_module_version": "1.2.0",
            "_view_count": null,
            "flex_flow": null,
            "width": null,
            "min_width": null,
            "border": null,
            "align_items": null,
            "bottom": null,
            "_model_module": "@jupyter-widgets/base",
            "top": null,
            "grid_column": null,
            "overflow_y": null,
            "overflow_x": null,
            "grid_auto_flow": null,
            "grid_area": null,
            "grid_template_columns": null,
            "flex": null,
            "_model_name": "LayoutModel",
            "justify_items": null,
            "grid_row": null,
            "max_height": null,
            "align_content": null,
            "visibility": null,
            "align_self": null,
            "height": null,
            "min_height": null,
            "padding": null,
            "grid_auto_rows": null,
            "grid_gap": null,
            "max_width": null,
            "order": null,
            "_view_module_version": "1.2.0",
            "grid_template_areas": null,
            "object_position": null,
            "object_fit": null,
            "grid_auto_columns": null,
            "margin": null,
            "display": null,
            "left": null
          }
        }
      }
    }
  },
  "nbformat": 4,
  "nbformat_minor": 0
}